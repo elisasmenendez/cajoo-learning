{
  "nbformat": 4,
  "nbformat_minor": 0,
  "metadata": {
    "colab": {
      "name": "credit_data.ipynb",
      "provenance": [],
      "collapsed_sections": [
        "p9TdFrjrosSi",
        "LgTISVRa_y8P",
        "VJ9Q3GjQhR6o",
        "GT5uhCPeH_eT",
        "z0wTKCLgxdC7",
        "231o6_zIAdFZ",
        "Wu1ei4tAWyg8",
        "ya0X392ej6Ed",
        "hSJgeuFxcAgF"
      ],
      "mount_file_id": "1cRnnCX_0RSCaRj7E_Utt6TC9jTiX7Yxr",
      "authorship_tag": "ABX9TyPbc7R8umMwjvITs+pRov7k",
      "include_colab_link": true
    },
    "kernelspec": {
      "name": "python3",
      "display_name": "Python 3"
    }
  },
  "cells": [
    {
      "cell_type": "markdown",
      "metadata": {
        "id": "view-in-github",
        "colab_type": "text"
      },
      "source": [
        "<a href=\"https://colab.research.google.com/github/elisasmenendez/cajoo-learning/blob/master/datasets/1_credit_data/credit_data.ipynb\" target=\"_parent\"><img src=\"https://colab.research.google.com/assets/colab-badge.svg\" alt=\"Open In Colab\"/></a>"
      ]
    },
    {
      "cell_type": "code",
      "metadata": {
        "id": "2bGopdzfqYq7",
        "colab_type": "code",
        "colab": {}
      },
      "source": [
        "import pandas as pd\n",
        "import numpy as np"
      ],
      "execution_count": null,
      "outputs": []
    },
    {
      "cell_type": "code",
      "metadata": {
        "id": "G-J8qwLXlsu2",
        "colab_type": "code",
        "colab": {
          "base_uri": "https://localhost:8080/",
          "height": 34
        },
        "outputId": "e36a331c-9a3c-41b1-dd85-d7efdac8582d"
      },
      "source": [
        "import keras"
      ],
      "execution_count": null,
      "outputs": [
        {
          "output_type": "stream",
          "text": [
            "Using TensorFlow backend.\n"
          ],
          "name": "stderr"
        }
      ]
    },
    {
      "cell_type": "markdown",
      "metadata": {
        "id": "p9TdFrjrosSi",
        "colab_type": "text"
      },
      "source": [
        "# Pre-processing"
      ]
    },
    {
      "cell_type": "code",
      "metadata": {
        "id": "0bShUP5UoKgL",
        "colab_type": "code",
        "colab": {}
      },
      "source": [
        "base = pd.read_csv('/content/drive/My Drive/Colab Notebooks/Datasets/1_credit_data/credit_data.csv')\n",
        "#base"
      ],
      "execution_count": null,
      "outputs": []
    },
    {
      "cell_type": "code",
      "metadata": {
        "id": "BUSlZs0fqwlk",
        "colab_type": "code",
        "colab": {}
      },
      "source": [
        "# Replace negative ages by the mean\n",
        "base.loc[base['age'] < 0]\n",
        "base.age[base.age > 0].mean()\n",
        "base.loc[base.age < 0, 'age'] = 40.92"
      ],
      "execution_count": null,
      "outputs": []
    },
    {
      "cell_type": "code",
      "metadata": {
        "id": "dQBWWdFSr5zY",
        "colab_type": "code",
        "colab": {}
      },
      "source": [
        "# Separate attributes and classes\n",
        "attributes = base.iloc[:,1:4].values\n",
        "classes = base.iloc[:,4].values"
      ],
      "execution_count": null,
      "outputs": []
    },
    {
      "cell_type": "code",
      "metadata": {
        "id": "wA8cZCpds0WH",
        "colab_type": "code",
        "colab": {}
      },
      "source": [
        "# Replace null values by the mean\n",
        "from sklearn.impute import SimpleImputer\n",
        "imputer = SimpleImputer(missing_values=np.nan, strategy='mean')\n",
        "imputer = imputer.fit(attributes[:,:])\n",
        "attributes[:,:] = imputer.transform(attributes[:,:])"
      ],
      "execution_count": null,
      "outputs": []
    },
    {
      "cell_type": "code",
      "metadata": {
        "id": "xzsUAcUQubeH",
        "colab_type": "code",
        "colab": {}
      },
      "source": [
        "# Scale attributes\n",
        "from sklearn.preprocessing import StandardScaler\n",
        "scaler = StandardScaler()\n",
        "attributes = scaler.fit_transform(attributes)"
      ],
      "execution_count": null,
      "outputs": []
    },
    {
      "cell_type": "code",
      "metadata": {
        "id": "7kLC6rDHfWAm",
        "colab_type": "code",
        "colab": {}
      },
      "source": [
        "# Split in training and test\n",
        "from sklearn.model_selection import train_test_split\n",
        "att_training, att_test, cls_training, cls_test = train_test_split(attributes, classes, test_size=0.25, random_state=0)"
      ],
      "execution_count": null,
      "outputs": []
    },
    {
      "cell_type": "markdown",
      "metadata": {
        "id": "LgTISVRa_y8P",
        "colab_type": "text"
      },
      "source": [
        "# Base line - 0.872"
      ]
    },
    {
      "cell_type": "code",
      "metadata": {
        "id": "H_zhoH1y_5mO",
        "colab_type": "code",
        "colab": {
          "base_uri": "https://localhost:8080/",
          "height": 34
        },
        "outputId": "8baaac9e-d6b1-4586-c3ce-f20e5d6223af"
      },
      "source": [
        "import collections\n",
        "collections.Counter(cls_test)\n",
        "\n",
        "436/(436 + 64)"
      ],
      "execution_count": null,
      "outputs": [
        {
          "output_type": "execute_result",
          "data": {
            "text/plain": [
              "0.872"
            ]
          },
          "metadata": {
            "tags": []
          },
          "execution_count": 7
        }
      ]
    },
    {
      "cell_type": "markdown",
      "metadata": {
        "id": "VJ9Q3GjQhR6o",
        "colab_type": "text"
      },
      "source": [
        "# Naive Bayes - 0.938"
      ]
    },
    {
      "cell_type": "code",
      "metadata": {
        "id": "xMmhK_WBhV03",
        "colab_type": "code",
        "colab": {}
      },
      "source": [
        "from sklearn.naive_bayes import GaussianNB\n",
        "classifier = GaussianNB()\n",
        "classifier.fit(att_training, cls_training)"
      ],
      "execution_count": null,
      "outputs": []
    },
    {
      "cell_type": "code",
      "metadata": {
        "id": "e_qgmsBn2f4d",
        "colab_type": "code",
        "colab": {}
      },
      "source": [
        "results = classifier.predict(att_test)"
      ],
      "execution_count": null,
      "outputs": []
    },
    {
      "cell_type": "code",
      "metadata": {
        "id": "qaES3u_j3IKV",
        "colab_type": "code",
        "colab": {}
      },
      "source": [
        "from sklearn.metrics import confusion_matrix, accuracy_score\n",
        "accuracy = accuracy_score(cls_test, results)\n",
        "matrix = confusion_matrix(cls_test, results)"
      ],
      "execution_count": null,
      "outputs": []
    },
    {
      "cell_type": "code",
      "metadata": {
        "id": "Mx_nJxLw3fac",
        "colab_type": "code",
        "colab": {
          "base_uri": "https://localhost:8080/",
          "height": 34
        },
        "outputId": "ed9e147e-cbe9-437e-8ebb-89fceba0bb97"
      },
      "source": [
        "accuracy"
      ],
      "execution_count": null,
      "outputs": [
        {
          "output_type": "execute_result",
          "data": {
            "text/plain": [
              "0.938"
            ]
          },
          "metadata": {
            "tags": []
          },
          "execution_count": 18
        }
      ]
    },
    {
      "cell_type": "code",
      "metadata": {
        "id": "ZEtaJ6Cp3qAn",
        "colab_type": "code",
        "colab": {}
      },
      "source": [
        "# 428 eram 0 e foram classificados como 0\n",
        "# 41 eram 1 e foram classificados como 1\n",
        "# 8 eram 0 e foram classificados como 1\n",
        "# 23 eram 1 e foram classificados como 0\n",
        "matrix"
      ],
      "execution_count": null,
      "outputs": []
    },
    {
      "cell_type": "markdown",
      "metadata": {
        "id": "GT5uhCPeH_eT",
        "colab_type": "text"
      },
      "source": [
        "# Decision Trees - 0.984"
      ]
    },
    {
      "cell_type": "code",
      "metadata": {
        "id": "Mab1SnxvIEb6",
        "colab_type": "code",
        "colab": {}
      },
      "source": [
        "from sklearn.tree import DecisionTreeClassifier\n",
        "classifier = DecisionTreeClassifier(criterion='entropy')\n",
        "classifier.fit(att_training,cls_training)\n",
        "results = classifier.predict(att_test)"
      ],
      "execution_count": null,
      "outputs": []
    },
    {
      "cell_type": "code",
      "metadata": {
        "id": "8qUJZ5OJIO2z",
        "colab_type": "code",
        "colab": {}
      },
      "source": [
        "from sklearn.metrics import confusion_matrix, accuracy_score\n",
        "accuracy = accuracy_score(cls_test, results)\n",
        "matrix = confusion_matrix(cls_test, results)"
      ],
      "execution_count": null,
      "outputs": []
    },
    {
      "cell_type": "code",
      "metadata": {
        "id": "UoLu5ytMIcRU",
        "colab_type": "code",
        "colab": {
          "base_uri": "https://localhost:8080/",
          "height": 34
        },
        "outputId": "0c11be81-2778-49f6-b87f-b8c57e9a3a69"
      },
      "source": [
        "accuracy"
      ],
      "execution_count": null,
      "outputs": [
        {
          "output_type": "execute_result",
          "data": {
            "text/plain": [
              "0.984"
            ]
          },
          "metadata": {
            "tags": []
          },
          "execution_count": 21
        }
      ]
    },
    {
      "cell_type": "markdown",
      "metadata": {
        "id": "z0wTKCLgxdC7",
        "colab_type": "text"
      },
      "source": [
        "# Random Forest - 0.984"
      ]
    },
    {
      "cell_type": "code",
      "metadata": {
        "colab_type": "code",
        "id": "mmAoehxvxp3M",
        "colab": {}
      },
      "source": [
        "from sklearn.ensemble import RandomForestClassifier\n",
        "classifier = RandomForestClassifier(n_estimators=40, criterion='entropy', random_state=0)\n",
        "classifier.fit(att_training,cls_training)\n",
        "results = classifier.predict(att_test)\n",
        "\n",
        "from sklearn.metrics import confusion_matrix, accuracy_score\n",
        "accuracy = accuracy_score(cls_test, results)\n",
        "matrix = confusion_matrix(cls_test, results)"
      ],
      "execution_count": null,
      "outputs": []
    },
    {
      "cell_type": "code",
      "metadata": {
        "id": "NZmlgb6Gx1Ou",
        "colab_type": "code",
        "colab": {
          "base_uri": "https://localhost:8080/",
          "height": 34
        },
        "outputId": "002d0e70-d406-455f-d5b3-edd0d3beeeba"
      },
      "source": [
        "accuracy"
      ],
      "execution_count": null,
      "outputs": [
        {
          "output_type": "execute_result",
          "data": {
            "text/plain": [
              "0.984"
            ]
          },
          "metadata": {
            "tags": []
          },
          "execution_count": 37
        }
      ]
    },
    {
      "cell_type": "markdown",
      "metadata": {
        "id": "231o6_zIAdFZ",
        "colab_type": "text"
      },
      "source": [
        "# kNN - 0.986"
      ]
    },
    {
      "cell_type": "code",
      "metadata": {
        "id": "5M91xBmvAitJ",
        "colab_type": "code",
        "colab": {}
      },
      "source": [
        "from sklearn.neighbors import KNeighborsClassifier\n",
        "classifier = KNeighborsClassifier(n_neighbors=5, metric='minkowski', p = 2)\n",
        "classifier.fit(att_training,cls_training)\n",
        "results = classifier.predict(att_test)\n",
        "\n",
        "from sklearn.metrics import confusion_matrix, accuracy_score\n",
        "accuracy = accuracy_score(cls_test, results)\n",
        "matrix = confusion_matrix(cls_test, results)"
      ],
      "execution_count": null,
      "outputs": []
    },
    {
      "cell_type": "code",
      "metadata": {
        "id": "HTdoEQJvBsmx",
        "colab_type": "code",
        "colab": {
          "base_uri": "https://localhost:8080/",
          "height": 34
        },
        "outputId": "ba539413-0f3d-4955-fa1b-f2b8c183d721"
      },
      "source": [
        "accuracy"
      ],
      "execution_count": null,
      "outputs": [
        {
          "output_type": "execute_result",
          "data": {
            "text/plain": [
              "0.986"
            ]
          },
          "metadata": {
            "tags": []
          },
          "execution_count": 40
        }
      ]
    },
    {
      "cell_type": "markdown",
      "metadata": {
        "id": "Wu1ei4tAWyg8",
        "colab_type": "text"
      },
      "source": [
        "# Logistic Regression - 0.946"
      ]
    },
    {
      "cell_type": "code",
      "metadata": {
        "id": "JE6sQTatW2iV",
        "colab_type": "code",
        "colab": {}
      },
      "source": [
        "from sklearn.linear_model import LogisticRegression\n",
        "classifier = LogisticRegression(random_state = 1, solver='lbfgs')\n",
        "classifier.fit(att_training,cls_training)\n",
        "results = classifier.predict(att_test)\n",
        "\n",
        "from sklearn.metrics import confusion_matrix, accuracy_score\n",
        "accuracy = accuracy_score(cls_test, results)\n",
        "matrix = confusion_matrix(cls_test, results)"
      ],
      "execution_count": null,
      "outputs": []
    },
    {
      "cell_type": "code",
      "metadata": {
        "id": "bclvaOzlXTo3",
        "colab_type": "code",
        "colab": {}
      },
      "source": [
        "accuracy"
      ],
      "execution_count": null,
      "outputs": []
    },
    {
      "cell_type": "code",
      "metadata": {
        "id": "L0p57F1DX-8O",
        "colab_type": "code",
        "colab": {}
      },
      "source": [
        "print(classifier.intercept_) # global coeficient\n",
        "print(classifier.coef_) # attributes coeficient"
      ],
      "execution_count": null,
      "outputs": []
    },
    {
      "cell_type": "code",
      "metadata": {
        "id": "v48ZZ0-DZHAg",
        "colab_type": "code",
        "colab": {}
      },
      "source": [
        "results2 = classifier.predict_proba(att_test) # probabilities and complements\n",
        "print(results2)"
      ],
      "execution_count": null,
      "outputs": []
    },
    {
      "cell_type": "markdown",
      "metadata": {
        "id": "ya0X392ej6Ed",
        "colab_type": "text"
      },
      "source": [
        "# SVM - 0.988"
      ]
    },
    {
      "cell_type": "code",
      "metadata": {
        "colab_type": "code",
        "id": "Quz1m5NEkL7g",
        "colab": {}
      },
      "source": [
        "from sklearn.svm import SVC\n",
        "classifier = SVC(kernel = 'rbf', random_state = 1, C = 2.0)\n",
        "classifier.fit(att_training,cls_training)\n",
        "results = classifier.predict(att_test)\n",
        "\n",
        "from sklearn.metrics import confusion_matrix, accuracy_score\n",
        "accuracy = accuracy_score(cls_test, results)\n",
        "matrix = confusion_matrix(cls_test, results)"
      ],
      "execution_count": null,
      "outputs": []
    },
    {
      "cell_type": "code",
      "metadata": {
        "colab_type": "code",
        "id": "UgWhm3W3kL7l",
        "colab": {
          "base_uri": "https://localhost:8080/",
          "height": 34
        },
        "outputId": "27820a93-d9ed-4530-c38c-5ca37765da7d"
      },
      "source": [
        "# linear kernel & c = 1.0 - 0.946\n",
        "# poly kernel & c = 1.0 - 0.968\n",
        "# sigmoid kernel & c = 1.0  - 0.838\n",
        "# rbf kernel & c = 1.0  - 0.982\n",
        "# rbf kernel & c = 2.0  - 0.988\n",
        "accuracy"
      ],
      "execution_count": null,
      "outputs": [
        {
          "output_type": "execute_result",
          "data": {
            "text/plain": [
              "0.988"
            ]
          },
          "metadata": {
            "tags": []
          },
          "execution_count": 71
        }
      ]
    },
    {
      "cell_type": "markdown",
      "metadata": {
        "id": "hSJgeuFxcAgF",
        "colab_type": "text"
      },
      "source": [
        "# Neural Networks - sklearn - 0.996"
      ]
    },
    {
      "cell_type": "code",
      "metadata": {
        "id": "U4jdsnKKcEu5",
        "colab_type": "code",
        "colab": {}
      },
      "source": [
        "from sklearn.neural_network import MLPClassifier\n",
        "classifier = MLPClassifier(verbose = True,            # show iterations\n",
        "                           max_iter=1000,             # max iterations\n",
        "                           tol = 0.0000010,           # max tolerance\n",
        "                           solver = 'adam',           # default - optimized stochastic gradient\n",
        "                           hidden_layer_sizes=(100),  # default - 100 hidden layers\n",
        "                           activation='relu')         # default - rectified linear unit function\n",
        "classifier.fit(att_training,cls_training)\n",
        "results = classifier.predict(att_test)\n",
        "\n",
        "from sklearn.metrics import confusion_matrix, accuracy_score\n",
        "accuracy = accuracy_score(cls_test, results)\n",
        "matrix = confusion_matrix(cls_test, results)"
      ],
      "execution_count": null,
      "outputs": []
    },
    {
      "cell_type": "code",
      "metadata": {
        "id": "erqO-VKbcc-M",
        "colab_type": "code",
        "colab": {
          "base_uri": "https://localhost:8080/",
          "height": 34
        },
        "outputId": "7b0e2513-eab4-41d9-e8f5-af6b4346a57e"
      },
      "source": [
        "accuracy"
      ],
      "execution_count": null,
      "outputs": [
        {
          "output_type": "execute_result",
          "data": {
            "text/plain": [
              "0.996"
            ]
          },
          "metadata": {
            "tags": []
          },
          "execution_count": 9
        }
      ]
    },
    {
      "cell_type": "markdown",
      "metadata": {
        "colab_type": "text",
        "id": "xETxmkqpmpQN"
      },
      "source": [
        "# Neural Networks - keras - 0.998"
      ]
    },
    {
      "cell_type": "code",
      "metadata": {
        "colab_type": "code",
        "id": "qOLLcoQCmpQQ",
        "colab": {}
      },
      "source": [
        "from keras.models import Sequential\n",
        "from keras.layers import Dense\n",
        "classifier = Sequential()\n",
        "classifier.add(Dense(units = 2, activation = 'relu', input_dim = 3))\n",
        "classifier.add(Dense(units = 2, activation = 'relu'))\n",
        "classifier.add(Dense(units = 1, activation = 'sigmoid'))\n",
        "classifier.compile(optimizer = 'adam', loss = 'binary_crossentropy', metrics = ['accuracy'])\n",
        "\n",
        "classifier.fit(att_training, cls_training, batch_size = 10, epochs = 100)\n",
        "results = classifier.predict(att_test)\n",
        "results = (results > 0.5)\n",
        "\n",
        "from sklearn.metrics import confusion_matrix, accuracy_score\n",
        "accuracy = accuracy_score(cls_test, results)\n",
        "matrix = confusion_matrix(cls_test, results)"
      ],
      "execution_count": null,
      "outputs": []
    },
    {
      "cell_type": "code",
      "metadata": {
        "id": "Q3EWur4hl0DA",
        "colab_type": "code",
        "colab": {
          "base_uri": "https://localhost:8080/",
          "height": 34
        },
        "outputId": "a1d1a49b-1446-4301-d26e-d85888784af2"
      },
      "source": [
        "# 0.998 \n",
        "accuracy"
      ],
      "execution_count": null,
      "outputs": [
        {
          "output_type": "execute_result",
          "data": {
            "text/plain": [
              "0.998"
            ]
          },
          "metadata": {
            "tags": []
          },
          "execution_count": 15
        }
      ]
    }
  ]
}