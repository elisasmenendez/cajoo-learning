{
  "nbformat": 4,
  "nbformat_minor": 0,
  "metadata": {
    "colab": {
      "name": "census.ipynb",
      "provenance": [],
      "collapsed_sections": [
        "a1IgIwd3_BB1",
        "bMgq1vQOhgAp",
        "_rK3DECkLRrx",
        "z0wTKCLgxdC7",
        "q7LKlUc2-niu",
        "Wu1ei4tAWyg8",
        "ya0X392ej6Ed",
        "hSJgeuFxcAgF"
      ],
      "mount_file_id": "1l0gCKeuR4wXqkUVIemg-0JVsHlnHxeFh",
      "authorship_tag": "ABX9TyOm5lCTGLxoytaMpvvzchEO",
      "include_colab_link": true
    },
    "kernelspec": {
      "name": "python3",
      "display_name": "Python 3"
    }
  },
  "cells": [
    {
      "cell_type": "markdown",
      "metadata": {
        "id": "view-in-github",
        "colab_type": "text"
      },
      "source": [
        "<a href=\"https://colab.research.google.com/github/elisasmenendez/cajoo-learning/blob/master/datasets/2_census/census.ipynb\" target=\"_parent\"><img src=\"https://colab.research.google.com/assets/colab-badge.svg\" alt=\"Open In Colab\"/></a>"
      ]
    },
    {
      "cell_type": "markdown",
      "metadata": {
        "id": "zKsLxcpVM8yM",
        "colab_type": "text"
      },
      "source": [
        ""
      ]
    },
    {
      "cell_type": "code",
      "metadata": {
        "id": "2bGopdzfqYq7",
        "colab_type": "code",
        "colab": {}
      },
      "source": [
        "import pandas as pd\n",
        "import numpy as np"
      ],
      "execution_count": null,
      "outputs": []
    },
    {
      "cell_type": "code",
      "metadata": {
        "id": "hfU50ms1lC3f",
        "colab_type": "code",
        "colab": {}
      },
      "source": [
        "import keras"
      ],
      "execution_count": null,
      "outputs": []
    },
    {
      "cell_type": "markdown",
      "metadata": {
        "id": "p9TdFrjrosSi",
        "colab_type": "text"
      },
      "source": [
        "# Pre-processing"
      ]
    },
    {
      "cell_type": "code",
      "metadata": {
        "id": "GtANBWTRu1jh",
        "colab_type": "code",
        "colab": {}
      },
      "source": [
        "base = pd.read_csv('/content/drive/My Drive/Colab Notebooks/Datasets/census.csv')\n",
        "attributes = base.iloc[:,0:14].values\n",
        "classes = base.iloc[:,14].values\n",
        "# base"
      ],
      "execution_count": null,
      "outputs": []
    },
    {
      "cell_type": "code",
      "metadata": {
        "id": "5UMXqd8c8-yZ",
        "colab_type": "code",
        "colab": {}
      },
      "source": [
        "# Transform nominal in discrete - no dummies here \n",
        "from sklearn.preprocessing import LabelEncoder\n",
        "labelencoder = LabelEncoder()\n",
        "attributes[:,1] = labelencoder.fit_transform(attributes[:,1])\n",
        "attributes[:,3] = labelencoder.fit_transform(attributes[:,3])\n",
        "attributes[:,5] = labelencoder.fit_transform(attributes[:,5])\n",
        "attributes[:,6] = labelencoder.fit_transform(attributes[:,6])\n",
        "attributes[:,7] = labelencoder.fit_transform(attributes[:,7])\n",
        "attributes[:,8] = labelencoder.fit_transform(attributes[:,8])\n",
        "attributes[:,9] = labelencoder.fit_transform(attributes[:,9])\n",
        "attributes[:,13] = labelencoder.fit_transform(attributes[:,13])"
      ],
      "execution_count": null,
      "outputs": []
    },
    {
      "cell_type": "code",
      "metadata": {
        "id": "OES68K-HZWTR",
        "colab_type": "code",
        "colab": {}
      },
      "source": [
        "# Transform nominal in dummies\n",
        "from sklearn.preprocessing import OneHotEncoder\n",
        "from sklearn.compose import ColumnTransformer\n",
        "onehotencorder = ColumnTransformer(transformers=[(\"OneHot\", OneHotEncoder(), [1,3,5,6,7,8,9,13])],remainder='passthrough')\n",
        "attributes = onehotencorder.fit_transform(attributes).toarray()"
      ],
      "execution_count": null,
      "outputs": []
    },
    {
      "cell_type": "code",
      "metadata": {
        "id": "UM3x6muRZqCN",
        "colab_type": "code",
        "colab": {}
      },
      "source": [
        "# Transform class in discrete\n",
        "from sklearn.preprocessing import LabelEncoder\n",
        "labelencorder_classe = LabelEncoder()\n",
        "classes = labelencorder_classe.fit_transform(classes)"
      ],
      "execution_count": null,
      "outputs": []
    },
    {
      "cell_type": "code",
      "metadata": {
        "id": "1mq2HQu-a3Gu",
        "colab_type": "code",
        "colab": {}
      },
      "source": [
        "# Scale all attributes\n",
        "from sklearn.preprocessing import StandardScaler\n",
        "scaler = StandardScaler()\n",
        "attributes = scaler.fit_transform(attributes)"
      ],
      "execution_count": null,
      "outputs": []
    },
    {
      "cell_type": "code",
      "metadata": {
        "id": "kpvYhIBFbURL",
        "colab_type": "code",
        "colab": {}
      },
      "source": [
        "# Split in training and test\n",
        "from sklearn.model_selection import train_test_split\n",
        "att_training, att_test, cls_training, cls_test = train_test_split(attributes, classes, test_size=0.15, random_state=0)"
      ],
      "execution_count": null,
      "outputs": []
    },
    {
      "cell_type": "markdown",
      "metadata": {
        "id": "a1IgIwd3_BB1",
        "colab_type": "text"
      },
      "source": [
        "# Base line - 0.755"
      ]
    },
    {
      "cell_type": "code",
      "metadata": {
        "id": "iYmuaYi2_FXw",
        "colab_type": "code",
        "colab": {}
      },
      "source": [
        "import collections\n",
        "collections.Counter(cls_test)\n",
        "\n",
        "3693/(3693 + 1192)"
      ],
      "execution_count": null,
      "outputs": []
    },
    {
      "cell_type": "markdown",
      "metadata": {
        "id": "bMgq1vQOhgAp",
        "colab_type": "text"
      },
      "source": [
        "# Naive Bayes - 0.805"
      ]
    },
    {
      "cell_type": "code",
      "metadata": {
        "id": "xMmhK_WBhV03",
        "colab_type": "code",
        "colab": {}
      },
      "source": [
        "from sklearn.naive_bayes import GaussianNB\n",
        "classifier = GaussianNB()\n",
        "classifier.fit(att_training, cls_training)\n",
        "results = classifier.predict(att_test)"
      ],
      "execution_count": null,
      "outputs": []
    },
    {
      "cell_type": "code",
      "metadata": {
        "id": "qaES3u_j3IKV",
        "colab_type": "code",
        "colab": {}
      },
      "source": [
        "from sklearn.metrics import confusion_matrix, accuracy_score\n",
        "accuracy = accuracy_score(cls_test, results)\n",
        "matrix = confusion_matrix(cls_test, results)"
      ],
      "execution_count": null,
      "outputs": []
    },
    {
      "cell_type": "code",
      "metadata": {
        "id": "nGyZkmgD6ESP",
        "colab_type": "code",
        "colab": {
          "base_uri": "https://localhost:8080/",
          "height": 34
        },
        "outputId": "cd04d57b-9af2-4393-d746-52f973bf7d57"
      },
      "source": [
        "# Dummies + scaling - 0.47\n",
        "# Dummine + no scaling - 0.79\n",
        "# No dummies + scaling - 0.805\n",
        "# Dummies + scaling numerical - ?\n",
        "accuracy "
      ],
      "execution_count": null,
      "outputs": [
        {
          "output_type": "execute_result",
          "data": {
            "text/plain": [
              "0.8057318321392016"
            ]
          },
          "metadata": {
            "tags": []
          },
          "execution_count": 10
        }
      ]
    },
    {
      "cell_type": "code",
      "metadata": {
        "id": "_rywUVu26G9f",
        "colab_type": "code",
        "colab": {}
      },
      "source": [
        "matrix"
      ],
      "execution_count": null,
      "outputs": []
    },
    {
      "cell_type": "markdown",
      "metadata": {
        "id": "_rK3DECkLRrx",
        "colab_type": "text"
      },
      "source": [
        "# Decision Trees - 0.810"
      ]
    },
    {
      "cell_type": "code",
      "metadata": {
        "id": "Mqh1viHyLT3T",
        "colab_type": "code",
        "colab": {}
      },
      "source": [
        "from sklearn.tree import DecisionTreeClassifier\n",
        "classifier = DecisionTreeClassifier(criterion='entropy')\n",
        "classifier.fit(att_training, cls_training)\n",
        "results = classifier.predict(att_test)\n",
        "\n",
        "from sklearn.metrics import confusion_matrix, accuracy_score\n",
        "accuracy = accuracy_score(cls_test, results)\n",
        "matrix = confusion_matrix(cls_test, results)"
      ],
      "execution_count": null,
      "outputs": []
    },
    {
      "cell_type": "code",
      "metadata": {
        "id": "Nwk6yPJdLkAw",
        "colab_type": "code",
        "colab": {
          "base_uri": "https://localhost:8080/",
          "height": 34
        },
        "outputId": "d1d2fabb-72aa-47e8-f682-694942fb5e88"
      },
      "source": [
        "# Dummies + scaling - 0.809\n",
        "# Dummies + no scaling - 0.810\n",
        "# No dummies + scaling - 0.810\n",
        "accuracy"
      ],
      "execution_count": null,
      "outputs": [
        {
          "output_type": "execute_result",
          "data": {
            "text/plain": [
              "0.8104401228249745"
            ]
          },
          "metadata": {
            "tags": []
          },
          "execution_count": 26
        }
      ]
    },
    {
      "cell_type": "markdown",
      "metadata": {
        "id": "z0wTKCLgxdC7",
        "colab_type": "text"
      },
      "source": [
        "# Random Forest - 0.852"
      ]
    },
    {
      "cell_type": "code",
      "metadata": {
        "colab_type": "code",
        "id": "mmAoehxvxp3M",
        "colab": {}
      },
      "source": [
        "from sklearn.ensemble import RandomForestClassifier\n",
        "classifier = RandomForestClassifier(n_estimators=100, criterion='entropy', random_state=0)\n",
        "classifier.fit(att_training, cls_training)\n",
        "results = classifier.predict(att_test)\n",
        "\n",
        "from sklearn.metrics import confusion_matrix, accuracy_score\n",
        "accuracy = accuracy_score(cls_test, results)\n",
        "matrix = confusion_matrix(cls_test, results)"
      ],
      "execution_count": null,
      "outputs": []
    },
    {
      "cell_type": "code",
      "metadata": {
        "id": "NZmlgb6Gx1Ou",
        "colab_type": "code",
        "colab": {}
      },
      "source": [
        "# No dummies + scaling + 10 estimators - 0.841\n",
        "# No dummies + scaling + 50 estimators - 0.849\n",
        "# No dummies + scaling + 100 estimators - 0.852\n",
        "accuracy"
      ],
      "execution_count": null,
      "outputs": []
    },
    {
      "cell_type": "markdown",
      "metadata": {
        "id": "q7LKlUc2-niu",
        "colab_type": "text"
      },
      "source": [
        "# kNN - 0.821"
      ]
    },
    {
      "cell_type": "code",
      "metadata": {
        "id": "EsoywoVz-mgW",
        "colab_type": "code",
        "colab": {}
      },
      "source": [
        "from sklearn.neighbors import KNeighborsClassifier\n",
        "classifier = KNeighborsClassifier(n_neighbors=5, metric='minkowski', p = 2) # euclidian distance\n",
        "classifier.fit(att_training,cls_training)\n",
        "results = classifier.predict(att_test)\n",
        "\n",
        "from sklearn.metrics import confusion_matrix, accuracy_score\n",
        "accuracy = accuracy_score(cls_test, results)\n",
        "matrix = confusion_matrix(cls_test, results)"
      ],
      "execution_count": null,
      "outputs": []
    },
    {
      "cell_type": "code",
      "metadata": {
        "id": "GGgHXRt5Dt2g",
        "colab_type": "code",
        "colab": {
          "base_uri": "https://localhost:8080/",
          "height": 34
        },
        "outputId": "2dfbb178-6941-477b-8af9-3b2a90d068b5"
      },
      "source": [
        "# No dummies + scaling + 5 neighbors - 0.841\n",
        "accuracy"
      ],
      "execution_count": null,
      "outputs": [
        {
          "output_type": "execute_result",
          "data": {
            "text/plain": [
              "0.8219037871033776"
            ]
          },
          "metadata": {
            "tags": []
          },
          "execution_count": 59
        }
      ]
    },
    {
      "cell_type": "markdown",
      "metadata": {
        "id": "Wu1ei4tAWyg8",
        "colab_type": "text"
      },
      "source": [
        "# Logistic Regression - 0.849"
      ]
    },
    {
      "cell_type": "code",
      "metadata": {
        "id": "JE6sQTatW2iV",
        "colab_type": "code",
        "colab": {}
      },
      "source": [
        "from sklearn.linear_model import LogisticRegression\n",
        "classifier = LogisticRegression(random_state = 1, solver='lbfgs')\n",
        "classifier.fit(att_training,cls_training)\n",
        "results = classifier.predict(att_test)\n",
        "\n",
        "from sklearn.metrics import confusion_matrix, accuracy_score\n",
        "accuracy = accuracy_score(cls_test, results)\n",
        "matrix = confusion_matrix(cls_test, results)"
      ],
      "execution_count": null,
      "outputs": []
    },
    {
      "cell_type": "code",
      "metadata": {
        "id": "bclvaOzlXTo3",
        "colab_type": "code",
        "colab": {
          "base_uri": "https://localhost:8080/",
          "height": 34
        },
        "outputId": "c8a4e822-611e-4f6e-b941-031bd9f0bb2b"
      },
      "source": [
        "# Dummies + scaling - 0.849\n",
        "# Dummine + no scaling - 0.794\n",
        "# No dummies + scaling - 0.818\n",
        "accuracy"
      ],
      "execution_count": null,
      "outputs": [
        {
          "output_type": "execute_result",
          "data": {
            "text/plain": [
              "0.8184237461617195"
            ]
          },
          "metadata": {
            "tags": []
          },
          "execution_count": 96
        }
      ]
    },
    {
      "cell_type": "code",
      "metadata": {
        "id": "L0p57F1DX-8O",
        "colab_type": "code",
        "colab": {}
      },
      "source": [
        "print(classifier.intercept_) # global coeficient\n",
        "print(classifier.coef_) # attributes coeficient"
      ],
      "execution_count": null,
      "outputs": []
    },
    {
      "cell_type": "code",
      "metadata": {
        "id": "v48ZZ0-DZHAg",
        "colab_type": "code",
        "colab": {}
      },
      "source": [
        "results2 = classifier.predict_proba(att_test) # probabilities and complements\n",
        "print(results2)"
      ],
      "execution_count": null,
      "outputs": []
    },
    {
      "cell_type": "markdown",
      "metadata": {
        "id": "ya0X392ej6Ed",
        "colab_type": "text"
      },
      "source": [
        "# SVM - 0.851"
      ]
    },
    {
      "cell_type": "code",
      "metadata": {
        "colab_type": "code",
        "id": "Quz1m5NEkL7g",
        "colab": {}
      },
      "source": [
        "from sklearn.svm import SVC\n",
        "classifier = SVC(kernel = 'linear', random_state = 1, C = 2.0)\n",
        "classifier.fit(att_training,cls_training)\n",
        "results = classifier.predict(att_test)\n",
        "\n",
        "from sklearn.metrics import confusion_matrix, accuracy_score\n",
        "accuracy = accuracy_score(cls_test, results)\n",
        "matrix = confusion_matrix(cls_test, results)"
      ],
      "execution_count": null,
      "outputs": []
    },
    {
      "cell_type": "code",
      "metadata": {
        "colab_type": "code",
        "id": "UgWhm3W3kL7l",
        "colab": {
          "base_uri": "https://localhost:8080/",
          "height": 34
        },
        "outputId": "a494abaf-00a7-4b46-c134-331117c40015"
      },
      "source": [
        "# pre = no dummies + scaling\n",
        "#   linear  kernel & c = 1.0 - 0.813\n",
        "#   poly    kernel & c = 1.0 - 0.839\n",
        "#   sigmoid kernel & c = 1.0 - 0.749\n",
        "#   rbf     kernel & c = 1.0 - 0.845\n",
        "#   rbf     kernel & c = 2.0 - 0.845\n",
        "\n",
        "# pre = dummies + scaling\n",
        "#   linear  kernel & c = 1.0 - 0.851\n",
        "#   linear  kernel & c = 2.0 - 0.851\n",
        "#   rbf     kernel & c = 2.0 - 0.848\n",
        "accuracy"
      ],
      "execution_count": null,
      "outputs": [
        {
          "output_type": "execute_result",
          "data": {
            "text/plain": [
              "0.8507676560900717"
            ]
          },
          "metadata": {
            "tags": []
          },
          "execution_count": 28
        }
      ]
    },
    {
      "cell_type": "markdown",
      "metadata": {
        "id": "hSJgeuFxcAgF",
        "colab_type": "text"
      },
      "source": [
        "# Neural Networks - sklearn - 0.8405"
      ]
    },
    {
      "cell_type": "code",
      "metadata": {
        "id": "U4jdsnKKcEu5",
        "colab_type": "code",
        "colab": {}
      },
      "source": [
        "from sklearn.neural_network import MLPClassifier\n",
        "classifier = MLPClassifier(verbose = True, max_iter=1000, tol=0.000010)\n",
        "classifier.fit(att_training,cls_training)\n",
        "results = classifier.predict(att_test)\n",
        "\n",
        "from sklearn.metrics import confusion_matrix, accuracy_score\n",
        "accuracy = accuracy_score(cls_test, results)\n",
        "matrix = confusion_matrix(cls_test, results)"
      ],
      "execution_count": null,
      "outputs": []
    },
    {
      "cell_type": "code",
      "metadata": {
        "id": "erqO-VKbcc-M",
        "colab_type": "code",
        "colab": {}
      },
      "source": [
        "# pre = no dummies + scaling\n",
        "#   iter = 1000 & tol = 0.000010 - 0.840\n",
        "accuracy"
      ],
      "execution_count": null,
      "outputs": []
    },
    {
      "cell_type": "markdown",
      "metadata": {
        "id": "XTCYRzUhlW4U",
        "colab_type": "text"
      },
      "source": [
        "# Neural Networks - keras - 0.845"
      ]
    },
    {
      "cell_type": "code",
      "metadata": {
        "id": "WSt-a6nDlfW8",
        "colab_type": "code",
        "colab": {}
      },
      "source": [
        "from keras.models import Sequential\n",
        "from keras.layers import Dense\n",
        "classifier = Sequential()\n",
        "classifier.add(Dense(units = 8, activation = 'relu', input_dim = 14))\n",
        "classifier.add(Dense(units = 8, activation = 'relu'))\n",
        "classifier.add(Dense(units = 1, activation = 'sigmoid'))\n",
        "classifier.compile(optimizer = 'adam', loss = 'binary_crossentropy', metrics = ['accuracy'])\n",
        "\n",
        "classifier.fit(att_training, cls_training, batch_size = 10, nb_epoch = 100)\n",
        "results = classifier.predict(att_test)\n",
        "results = (results > 0.5)\n",
        "\n",
        "from sklearn.metrics import confusion_matrix, accuracy_score\n",
        "accuracy = accuracy_score(cls_test, results)\n",
        "matrix = confusion_matrix(cls_test, results)"
      ],
      "execution_count": null,
      "outputs": []
    },
    {
      "cell_type": "code",
      "metadata": {
        "id": "Q3EWur4hl0DA",
        "colab_type": "code",
        "colab": {
          "base_uri": "https://localhost:8080/",
          "height": 34
        },
        "outputId": "b35245c1-209f-47f3-be90-1abc6f0c7aea"
      },
      "source": [
        "# no dummies + scaling - 0.845\n",
        "# dummies + scaling - \n",
        "accuracy"
      ],
      "execution_count": null,
      "outputs": [
        {
          "output_type": "execute_result",
          "data": {
            "text/plain": [
              "0.84503582395087"
            ]
          },
          "metadata": {
            "tags": []
          },
          "execution_count": 23
        }
      ]
    }
  ]
}